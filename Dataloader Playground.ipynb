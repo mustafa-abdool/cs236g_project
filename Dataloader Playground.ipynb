{
 "cells": [
  {
   "cell_type": "code",
   "execution_count": 5,
   "id": "ed9f644f",
   "metadata": {},
   "outputs": [
    {
     "name": "stdout",
     "output_type": "stream",
     "text": [
      "Using device: cpu\n"
     ]
    }
   ],
   "source": [
    "import torch\n",
    "from torch import nn\n",
    "from tqdm.auto import tqdm\n",
    "from torchvision import datasets\n",
    "from torchvision import transforms\n",
    "from torchvision.datasets import MNIST\n",
    "from torchvision.utils import make_grid\n",
    "from torch.utils.data import DataLoader\n",
    "import matplotlib.pyplot as plt\n",
    "torch.manual_seed(0) # Set for testing purposes, please do not change!\n",
    "from dataloaders import get_pkmn_dataloader\n",
    "import torch.nn.functional as F\n",
    "import numpy as np\n",
    "\n",
    "# library to get dataloader\n",
    "from dataloaders import get_pkmn_dataloader\n",
    "\n",
    "# library to get loss functions\n",
    "from loss_functions import get_generator_loss_func,get_disc_loss_func\n",
    "\n",
    "# generators and discriminators\n",
    "from DCGeneratorCustom import DCGeneratorCustom\n",
    "from DCDiscriminatorCustom import DCDiscriminatorCustom\n",
    "from DCGeneratorStandard import DCGeneratorStandard\n",
    "from DCDiscriminatorStandard import DCDiscriminatorStandard\n",
    "from DCDiscriminatorStandardDropout import DCDiscriminatorStandardDropout\n",
    "\n",
    "# util methods\n",
    "from utils import get_noise\n",
    "\n",
    "# constants\n",
    "from pkmn_constants import PKMN_TYPES,CLASS_IDX_2_PKMN_TYPE,NUM_PKMN_TYPES\n",
    "\n",
    "# whether to use CPU/GPU (pass this along everywhere)\n",
    "device_str = \"cuda:0\" if torch.cuda.is_available() else \"cpu\"\n",
    "device = torch.device(device_str)\n",
    "\n",
    "print(\"Using device: {}\".format(device_str))"
   ]
  },
  {
   "cell_type": "code",
   "execution_count": 6,
   "id": "0bc2149a",
   "metadata": {},
   "outputs": [
    {
     "name": "stdout",
     "output_type": "stream",
     "text": [
      "1.10.2\n"
     ]
    }
   ],
   "source": [
    "print(torch.__version__)\n",
    "\n",
    "channel_means = [0.5, 0.5, 0.5]\n",
    "channel_stds = [0.5, 0.5, 0.5]\n",
    "\n",
    "denorm_means = [-1.0 * mean/std for mean,std in zip(channel_means, channel_stds)]\n",
    "\n",
    "denorm_stds = [1.0 / std for std in channel_stds]\n",
    "\n",
    "norm_transform = transforms.Normalize(mean=channel_means, std = channel_stds)\n",
    "denorm_transform = transforms.Normalize(mean = denorm_means, std =denorm_stds)\n",
    "\n",
    "\n",
    "\n",
    "# if apply_denormalization is true, then we re-scale the images back \n",
    "def show_tensor_images(image_tensor, num_images=25, size=(1, 28, 28), denorm_transform = None):\n",
    "    '''\n",
    "    Function for visualizing images: Given a tensor of images, number of images, and\n",
    "    size per image, plots and prints the images in an uniform grid.\n",
    "    '''\n",
    "    #image_tensor = (image_tensor + 1) / 2 # scale from [-1, 1] to [0, 1] space\n",
    "    if denorm_transform is not None:\n",
    "      image_tensor = denorm_transform(image_tensor)\n",
    "    image_unflat = image_tensor.detach().cpu()\n",
    "    image_grid = make_grid(image_unflat[:num_images], nrow=5)\n",
    "    plt.imshow(image_grid.permute(1, 2, 0).squeeze())\n",
    "    plt.show()"
   ]
  },
  {
   "cell_type": "code",
   "execution_count": null,
   "id": "6ce621c7",
   "metadata": {},
   "outputs": [],
   "source": [
    "# Test that the data loading library works\n",
    "\n",
    "dataloader_name = \"shiny_64_dim_normalize_and_random_flip_concat_from_data\"\n",
    "batch_size = 4\n",
    "\n",
    "# just for easy local testing\n",
    "my_dataloader, denorm_func = get_pkmn_dataloader(dataloader_name, batch_size) \n",
    "\n",
    "\n",
    "data_iter = iter(my_dataloader)\n",
    "images, labels = next(data_iter)\n",
    "\n",
    "# shape = (bs, num_channels, width, height)\n",
    "print(images.shape)\n",
    "print(labels)\n",
    "print(\"Dataset size is: {}\".format(len(my_dataloader)))\n",
    "show_tensor_images(images, num_images = batch_size, size = (3,64,64), denorm_transform = None)"
   ]
  },
  {
   "cell_type": "code",
   "execution_count": null,
   "id": "52556d12",
   "metadata": {},
   "outputs": [],
   "source": [
    "show_tensor_images(images, num_images = batch_size, size = (3,64,64), denorm_transform = denorm_func)"
   ]
  },
  {
   "cell_type": "code",
   "execution_count": null,
   "id": "b2963668",
   "metadata": {},
   "outputs": [],
   "source": [
    "# Test loading the data\n",
    "# See example from: https://medium.com/secure-and-private-ai-writing-challenge/loading-image-using-pytorch-c2e2dcce6ef2\n",
    "\n",
    "\n",
    "png_directory = \"./pokemon_data/gen_5/main-sprites/black-white/\"\n",
    "jpg_directory = \"./pokemon_images_all_size=64_shiny=True/\" \n",
    "\n",
    "# useful transformations include:\n",
    "\n",
    "# Normalize - we want our data to be mean 0 and std 1 \n",
    "# CenterCrop - seems like there's a lot of whitespace in the border, can probably remove some of it.\n",
    "\n",
    "# We should also include random transformations in order to increase the diversity of our training data\n",
    "\n",
    "\n",
    "\n",
    "normalization_stats = (0.5, 0.5, 0.5), (0.5, 0.5, 0.5) # Convert channels from [0, 1] to [-1, 1]\n",
    "\n",
    "dataset_transforms = transforms.Compose([\n",
    "  #transforms.CenterCrop(84),\n",
    "  transforms.ToTensor(),\n",
    "  norm_transform\n",
    "])\n",
    "\n",
    "\n",
    "\n",
    "# Note that ImageFolder expects a subdirectory for each class label\n",
    "# If we're doing pokemon stuff, I think it makes sense to pre-process the data by pokemon type first and then save it\n",
    "# into the appropriate folder (but we can do that later!)\n",
    "\n",
    "\n",
    "# we can also create a custom dataset but that might be overkill\n",
    "# one issue with the folder thing is making sure the types are consistent (ie. label 0 = fire type etc.) across\n",
    "# training runs and all that\n",
    "\n",
    "\n",
    "class_to_idx = {\n",
    "  1 : \"fire\"\n",
    "}\n",
    "\n",
    "test_batch_size = 4\n",
    "\n",
    "pkmn_data = datasets.ImageFolder(root = jpg_directory,transform = dataset_transforms)\n",
    "pkmn_dataloader = torch.utils.data.DataLoader(dataset=pkmn_data, \n",
    "                                              batch_size=test_batch_size, shuffle=True, num_workers=1)\n",
    "\n",
    "print(\"Dataset total size is: {}\".format(len(pkmn_dataloader) * test_batch_size))"
   ]
  },
  {
   "cell_type": "code",
   "execution_count": null,
   "id": "eb63f65a",
   "metadata": {},
   "outputs": [],
   "source": [
    "data_iter = iter(pkmn_dataloader)\n",
    "images, labels = next(data_iter)\n",
    "\n",
    "# shape = (bs, num_channels, width, height)\n",
    "print(images.shape)\n",
    "print(labels)\n",
    "\n",
    "\n",
    "# print(images[0][0].shape)"
   ]
  },
  {
   "cell_type": "code",
   "execution_count": null,
   "id": "87458408",
   "metadata": {},
   "outputs": [],
   "source": [
    "# looks like there's a lot of whitespace when loading the images...\n",
    "\n",
    "show_tensor_images(images, num_images = 2, size = (3,64,64), denorm_transform = None)"
   ]
  },
  {
   "cell_type": "code",
   "execution_count": null,
   "id": "8c9b726e",
   "metadata": {},
   "outputs": [],
   "source": [
    "# checking that denormalization works to recover the original image\n",
    "show_tensor_images(images, num_images = 2, size = (3,64,64), denorm_transform = denorm_transform)"
   ]
  },
  {
   "cell_type": "code",
   "execution_count": null,
   "id": "00ea2def",
   "metadata": {},
   "outputs": [],
   "source": [
    "# Example of getting the mean/std stats for each channel in the dataset\n",
    "# just get the mean and std given a dataset / dataloader basically...\n",
    "\n",
    "test_batch_size = 4\n",
    "\n",
    "jpg_directory = \"./pokemon_images_all_size=64_shiny=True/\"\n",
    "pkmn_data = datasets.ImageFolder(root = jpg_directory,transform = transforms.ToTensor())\n",
    "pkmn_dataloader = torch.utils.data.DataLoader(dataset=pkmn_data, \n",
    "                                              batch_size=test_batch_size, shuffle=True, num_workers=1)\n",
    "\n",
    "dataloader_name = \"shiny_64_dim_blackbg_normalize_and_random_transform_from_data\"\n",
    "batch_size = 4\n",
    "\n",
    "\n",
    "running_mean_sum = torch.zeros(3)\n",
    "running_std_sum = torch.zeros(3)\n",
    "\n",
    "for images, _ in tqdm(pkmn_dataloader):\n",
    "  \n",
    "  flattened = images.view(test_batch_size, 3, -1)\n",
    "  \n",
    "  mean_per_channel_in_batch = torch.sum(flattened, dim = -1)\n",
    "  mean_per_channel = torch.sum(mean_per_channel_in_batch, dim = 0)\n",
    "\n",
    "  std_per_channel_in_batch = torch.std(flattened, dim = -1)\n",
    "  std_per_channel = torch.sum(std_per_channel_in_batch, dim = 0)\n",
    "  \n",
    "  running_mean_sum += mean_per_channel\n",
    "  running_std_sum += std_per_channel\n",
    "  \n",
    "  batches += 1\n",
    "\n",
    "final_mean_per_channel = running_mean_sum / (batches * test_batch_size * 64 * 64)\n",
    "final_std_per_channel = running_std_sum / (batches * test_batch_size)\n",
    "\n",
    "\n",
    "print(\"[Dataloader Stats] Final mean per channel is: {}, final std per channel is: {}\".format(final_mean_per_channel, final_std_per_channel))"
   ]
  },
  {
   "cell_type": "code",
   "execution_count": 11,
   "id": "0b4a0a2e",
   "metadata": {},
   "outputs": [
    {
     "name": "stdout",
     "output_type": "stream",
     "text": [
      "<torch.utils.data.dataloader.DataLoader object at 0x7fa6b0b66cd0>\n"
     ]
    }
   ],
   "source": [
    "# Example of loading data from classification of types (with different labels)\n",
    "# And a quick explorer to only load images of a certain type\n",
    "\n",
    "# todo: check if this is consistent ?\n",
    "\n",
    "\"\"\"\n",
    "conditional_dir = \"./pokemon_images_by_type_all_size=64_shiny=False/\"\n",
    "\n",
    "dataset_transforms = transforms.Compose([\n",
    "  #transforms.CenterCrop(84),\n",
    "  transforms.ToTensor()\n",
    "])\n",
    "\n",
    "\n",
    "conditional_pkmn_data = datasets.ImageFolder(root = conditional_dir,transform = dataset_transforms)\n",
    "conditional_pkmn_dataloader = torch.utils.data.DataLoader(dataset=conditional_pkmn_data, \n",
    "                                              batch_size=512, shuffle=True, num_workers=1)\n",
    "\"\"\"\n",
    "\n",
    "# conditional_64_dim_no_shiny_with_flip_and_rotate_and_custom_norm\n",
    "# conditional_64_dim_no_shiny_with_flip_standard_norm\n",
    "# conditional_64_dim_no_shiny_with_flip_custom_norm\n",
    "cond_dataloader_name = 'conditional_64_no_shiny_mainclass_flip_rotate_standard_norm'\n",
    "batch_size = 128\n",
    "conditional_pkmn_dataloader, denorm_transform = get_pkmn_dataloader(cond_dataloader_name, batch_size) \n",
    "\n",
    "print(conditional_pkmn_dataloader)"
   ]
  },
  {
   "cell_type": "code",
   "execution_count": 29,
   "id": "e482ae52",
   "metadata": {},
   "outputs": [
    {
     "name": "stderr",
     "output_type": "stream",
     "text": [
      "[W ParallelNative.cpp:214] Warning: Cannot set number of intraop threads after parallel work has started or after set_num_threads call when using native parallel backend (function set_num_threads)\n"
     ]
    },
    {
     "data": {
      "image/png": "[encoded data removed]",
      "text/plain": [
       "<Figure size 432x288 with 1 Axes>"
      ]
     },
     "metadata": {
      "needs_background": "light"
     },
     "output_type": "display_data"
    }
   ],
   "source": [
    "conditional_iter = iter(conditional_pkmn_dataloader)\n",
    "cond_images, cond_labels = next(conditional_iter)\n",
    "cond_images = cond_images.numpy()\n",
    "cond_labels = cond_labels.numpy()\n",
    "\n",
    "# Type Groups\n",
    "\n",
    "# (Water, Ice)\n",
    "# (Ground, ROck)\n",
    "\n",
    "\n",
    "\n",
    "# map from idx to type name\n",
    "# pytorch automatically sorts all the files by name\n",
    "type_names_full = ['Bug', 'Dark', 'Dragon', 'Electric', 'Fairy','Fighting','Fire','Flying','Ghost',\n",
    "              'Grass','Ground','Ice','Normal','Poison','Psychic','Rock','Steel','Water']\n",
    "\n",
    "type_names = ['Bug', 'Dragon', 'Electric', 'Fighting',\n",
    "              'Fire','Ghost','Grass','Normal','Poison',\n",
    "              'Psychic','Rock','Steel','Water']\n",
    "\n",
    "# Possible Groups\n",
    "# (Water, Ice)\n",
    "# (Rock, Ground)\n",
    "# (Bug, Flying)\n",
    "# (Fairy, Psychic)\n",
    "# (Ghost, Dark)\n",
    "\n",
    "assert len(type_names) == 13\n",
    "\n",
    "idx2type_dict = dict()\n",
    "\n",
    "for i in range(0, len(type_names)):\n",
    "  idx2type_dict[i] = type_names[i]\n",
    "  \n",
    "# small utility method to get a list of some pokemon of a given type from the batch sample\n",
    "target_type_1 = 'Grass'\n",
    "target_type_2 = \"Grass\"\n",
    "\n",
    "target_idx_1 = type_names.index(target_type_1)\n",
    "target_idx_2 = type_names.index(target_type_2)\n",
    "\n",
    "idx_mask = np.logical_or(cond_labels == target_idx_1, cond_labels == target_idx_2)#(cond_labels == target_idx & cond_labels == target_idx + 1)\n",
    "\n",
    "target_images = cond_images[idx_mask]\n",
    "\n",
    "num_target_images = min(target_images.shape[0], 5)\n",
    "\n",
    "\n",
    "# looks like there's a lot of whitespace when loading the images btw\n",
    "\n",
    "show_tensor_images(torch.from_numpy(target_images), num_images = num_target_images, size = (3,64,64), denorm_transform = denorm_transform)"
   ]
  },
  {
   "cell_type": "code",
   "execution_count": 27,
   "id": "73df01ee",
   "metadata": {},
   "outputs": [
    {
     "name": "stdout",
     "output_type": "stream",
     "text": [
      "Dataset total size is: 4944\n"
     ]
    },
    {
     "name": "stderr",
     "output_type": "stream",
     "text": [
      "[W ParallelNative.cpp:214] Warning: Cannot set number of intraop threads after parallel work has started or after set_num_threads call when using native parallel backend (function set_num_threads)\n"
     ]
    }
   ],
   "source": [
    "# Playing around with conditional generation signature\n",
    "\n",
    "# Create the dataloader, based on the appropriate batch size. \n",
    "\n",
    "show_preview = True\n",
    "test_bs = 16\n",
    "dataloader_name = \"shiny_64_dim_normalize_and_random_transform\"\n",
    "pkmn_dataloader, denorm_transform = get_pkmn_dataloader(dataloader_name, test_bs)\n",
    "\n",
    "\n",
    "# show a batch before and after denorm\n",
    "test_data_iter = iter(pkmn_dataloader)\n",
    "test_images, test_labels = next(test_data_iter)\n",
    "\n",
    "print(\"Dataset total size is: {}\".format(len(pkmn_dataloader) * test_bs))"
   ]
  },
  {
   "cell_type": "code",
   "execution_count": null,
   "id": "e8fdb6a7",
   "metadata": {},
   "outputs": [],
   "source": [
    "# Signature for the conditonal generator\n",
    "\n",
    "z_dim = 16\n",
    "\n",
    "sample_noise = get_noise(test_bs, z_dim)\n",
    "\n",
    "print(sample_noise.shape)\n",
    "print(\"True labels are: {}\".format(test_labels))\n",
    "\n",
    "labels_reshaped = test_labels.view(test_bs, 1)\n",
    "\n",
    "# now this is shape [batch, z_dim + 1]\n",
    "noise_and_label_concat = torch.cat((sample_noise, labels_reshaped), dim = 1)\n",
    "\n",
    "print(noise_and_label_concat.shape)\n",
    "# noise and label concat is the input to our generator\n",
    "\n",
    "# what do we do inside the generator ?\n",
    "\n",
    "restored_noise = noise_and_label_concat[:,0:-1]\n",
    "restored_labels = noise_and_label_concat[:,-1]\n",
    "\n",
    "print(restored_noise.shape)\n",
    "print(restored_labels.shape)\n",
    "\n",
    "# want to one-hot encode each label\n",
    "\n",
    "onehot_labels = F.one_hot(restored_labels.long(), num_classes = 18)\n",
    "\n",
    "print(onehot_labels.shape) # shape [bs, num_classes]\n",
    "\n",
    "final_input = torch.cat([restored_noise, onehot_labels], dim = 1)\n",
    "\n",
    "print(\"Shape of final input is: {}\".format(final_input.shape)) # shape = [bs, z_dim + num_classes]\n",
    " \n"
   ]
  },
  {
   "cell_type": "code",
   "execution_count": null,
   "id": "31ab34b1",
   "metadata": {},
   "outputs": [],
   "source": [
    "# What about the conditional discriminator ?\n",
    "# The forward function can take multiple inputs ? \n",
    "# So the signature is just (images, true_labels)\n",
    "\n",
    "discriminator_input = torch.rand((test_bs, 3, 64, 64))\n",
    "embed = torch.nn.Embedding(num_embeddings = 18, embedding_dim = 16)\n",
    "\n",
    "# How do we get an encoding of the class ?\n",
    "\n",
    "class_embed = embed(test_labels)\n",
    "\n",
    "# shape [bs, embed_size]\n",
    "print(class_embed.shape)\n",
    "\n",
    "class_embed_tiled = class_embed.tile((4,64)).view(test_bs, 1, 64, 64)\n",
    "\n",
    "print(discriminator_input.shape)\n",
    "print(class_embed_tiled.shape)\n",
    "\n",
    "\n",
    "final_input = torch.cat((discriminator_input, class_embed_tiled), dim=1)\n",
    "\n",
    "print(final_input.shape)\n",
    "\n"
   ]
  },
  {
   "cell_type": "code",
   "execution_count": null,
   "id": "cb322140",
   "metadata": {},
   "outputs": [],
   "source": [
    "# What about the loss function/targets ? I dont think that changes..\n",
    "\n",
    "\n",
    "# What about the training process? I think we have to generate fake classes according to a distribution? Maybe it\n",
    "# can be uniform though...actually they just use the true labels."
   ]
  }
 ],
 "metadata": {
  "kernelspec": {
   "display_name": "Python 3 (ipykernel)",
   "language": "python",
   "name": "python3"
  },
  "language_info": {
   "codemirror_mode": {
    "name": "ipython",
    "version": 3
   },
   "file_extension": ".py",
   "mimetype": "text/x-python",
   "name": "python",
   "nbconvert_exporter": "python",
   "pygments_lexer": "ipython3",
   "version": "3.7.11"
  }
 },
 "nbformat": 4,
 "nbformat_minor": 5
}
